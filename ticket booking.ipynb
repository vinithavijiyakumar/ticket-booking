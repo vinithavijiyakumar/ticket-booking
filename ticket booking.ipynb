{
 "cells": [
  {
   "cell_type": "code",
   "execution_count": 1,
   "id": "43ccd49c",
   "metadata": {},
   "outputs": [
    {
     "name": "stdout",
     "output_type": "stream",
     "text": [
      "\n",
      "\n",
      "Ticket Booking System\n",
      "\n",
      "1. Check PNR status\n",
      "2. Ticket Reservation\n",
      "\n",
      "Enter your option: 2\n",
      "\n",
      "Enter number of tickets you want: 2\n",
      "\n",
      "Name: vinitha\n",
      "Age: 20\n",
      "Male or Female: female\n",
      "\n",
      "Name: keerthana\n",
      "Age: 18\n",
      "Male or Female: female\n",
      "\n",
      "Did you forget someone? (y/n): n\n",
      "\n",
      "Total Tickets: 2\n",
      "\n",
      "Ticket: 1\n",
      "Name: vinitha\n",
      "Age: 20\n",
      "Sex: female\n",
      "\n",
      "Ticket: 2\n",
      "Name: keerthana\n",
      "Age: 18\n",
      "Sex: female\n"
     ]
    }
   ],
   "source": [
    "print(\"\\n\\nTicket Booking System\\n\")\n",
    "restart = 'Y'\n",
    "\n",
    "while restart not in ('N', 'NO', 'n', 'no'):\n",
    "    print(\"1. Check PNR status\")\n",
    "    print(\"2. Ticket Reservation\")\n",
    "    option = int(input(\"\\nEnter your option: \"))\n",
    "\n",
    "    if option == 1:\n",
    "        print(\"Your PNR status is t3\")\n",
    "        exit(0)\n",
    "\n",
    "    elif option == 2:\n",
    "        people = int(input(\"\\nEnter number of tickets you want: \"))\n",
    "        name_l = []\n",
    "        age_l = []\n",
    "        sex_l = []\n",
    "        for p in range(people):\n",
    "            name = str(input(\"\\nName: \"))\n",
    "            name_l.append(name)\n",
    "            age = int(input(\"Age: \"))\n",
    "            age_l.append(age)\n",
    "            sex = str(input(\"Male or Female: \"))\n",
    "            sex_l.append(sex)\n",
    "\n",
    "        restart = input(\"\\nDid you forget someone? (y/n): \")\n",
    "        if restart.lower() in ('y', 'yes'):\n",
    "            restart = 'Y'\n",
    "        else:\n",
    "            print(\"\\nTotal Tickets:\", people)\n",
    "            for p in range(people):\n",
    "                print(\"\\nTicket:\", p + 1)\n",
    "                print(\"Name:\", name_l[p])\n",
    "                print(\"Age:\", age_l[p])\n",
    "                print(\"Sex:\", sex_l[p])\n"
   ]
  },
  {
   "cell_type": "code",
   "execution_count": null,
   "id": "cc7f9072",
   "metadata": {},
   "outputs": [],
   "source": []
  }
 ],
 "metadata": {
  "kernelspec": {
   "display_name": "Python 3 (ipykernel)",
   "language": "python",
   "name": "python3"
  },
  "language_info": {
   "codemirror_mode": {
    "name": "ipython",
    "version": 3
   },
   "file_extension": ".py",
   "mimetype": "text/x-python",
   "name": "python",
   "nbconvert_exporter": "python",
   "pygments_lexer": "ipython3",
   "version": "3.11.5"
  }
 },
 "nbformat": 4,
 "nbformat_minor": 5
}
